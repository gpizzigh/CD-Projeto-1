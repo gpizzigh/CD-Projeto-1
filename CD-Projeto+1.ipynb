{
 "cells": [
  {
   "cell_type": "markdown",
   "metadata": {},
   "source": [
    "Ciência dos Dados --- Projeto 1 --- \n",
    "- Gabriel Pizzighini Salvador -   --2A-- \n",
    " Pergunta: O Quanto o acesso internet e televisão influencia na renda da população do Paraná?\n",
    "\n",
    "varieaveis:\n",
    "\n",
    "-Número de televisões de tela fina-\n",
    "-Número de televisões de tubo-\n",
    "-Tem acesso à Internet no próprio domicilio-\n",
    "-Rendimento mensal domiciliar para todas as unidades domiciliares (exclusive o rendimento das pessoas cuja condição na unidade domiciliar era pensionista, empregado doméstico ou parente do empregado doméstico e das pessoas de menos de 10 anos de idade)-\n",
    "-Rendimento mensal domiciliar per capita-\n",
    "-Faixa do rendimento mensal domiciliar per capita- \n"
   ]
  },
  {
   "cell_type": "code",
   "execution_count": 1,
   "metadata": {
    "collapsed": true
   },
   "outputs": [],
   "source": [
    "import matplotlib.pyplot as plt\n",
    "import numpy as np\n",
    "from scipy import* "
   ]
  },
  {
   "cell_type": "code",
   "execution_count": null,
   "metadata": {
    "collapsed": true
   },
   "outputs": [],
   "source": []
  }
 ],
 "metadata": {
  "kernelspec": {
   "display_name": "Python 3",
   "language": "python",
   "name": "python3"
  },
  "language_info": {
   "codemirror_mode": {
    "name": "ipython",
    "version": 3
   },
   "file_extension": ".py",
   "mimetype": "text/x-python",
   "name": "python",
   "nbconvert_exporter": "python",
   "pygments_lexer": "ipython3",
   "version": "3.6.0"
  }
 },
 "nbformat": 4,
 "nbformat_minor": 2
}
